{
 "cells": [
  {
   "cell_type": "raw",
   "id": "adb0f1f0",
   "metadata": {},
   "source": [
    "1.What are the two values of the Boolean data type? How do you write them?\n",
    "True and False \n",
    "We should always write the first letter iin capital"
   ]
  },
  {
   "cell_type": "raw",
   "id": "82ee8df5",
   "metadata": {},
   "source": [
    "2. What are the three different types of Boolean operators?\n",
    "AND,OR and NOT"
   ]
  },
  {
   "cell_type": "raw",
   "id": "f60be24a",
   "metadata": {},
   "source": [
    "3. Make a list of each Boolean operator's truth tables (i.e. every possible combination of Boolean values for the operator and what it evaluate ).\n",
    "With AND operator\n",
    "[(True and True=True),(True and False=False),(False and False=False),(False and True=False)]\n",
    "With OR operator\n",
    "[(True or True=True),(True or False=True),(False or False=False),(False or True=True)]\n",
    "With NOT operator\n",
    "[True=False,False=True]"
   ]
  },
  {
   "cell_type": "raw",
   "id": "23960859",
   "metadata": {},
   "source": [
    "4. What are the values of the following expressions?\n",
    "Ans:\n",
    "(5 > 4) and (3 == 5)---------------------> Only when both conditions are True, it will be executed\n",
    "not (5 > 4)------------------------------>Only when it is False, it will be executed\n",
    "(5 > 4) or (3 == 5)---------------------->It will be executed if atleast anyone of the condition is True\n",
    "not ((5 > 4) or (3 == 5))---------------->It will be executed only when both the conditions are False\n",
    "(True and True) and (True == False)------>Only when both conditions are True, it will be executed\n",
    "(not False) or (not True)---------------->\n"
   ]
  },
  {
   "cell_type": "raw",
   "id": "e8374b0d",
   "metadata": {},
   "source": [
    "5. What are the six comparison operators?\n",
    "equal to--------------------->    (==)\n",
    "not equal to----------------->    (!=)\n",
    "greater than----------------->    (>)\n",
    "less than-------------------->    (<)\n",
    "greater than or equal to----->    (>=)\n",
    "less than or equal to-------->    (<=)"
   ]
  },
  {
   "cell_type": "raw",
   "id": "b553ee09",
   "metadata": {},
   "source": [
    "6. How do you tell the difference between the equal to and assignment operators?Describe a condition and when you would use one.\n",
    "Assignment operator have only one equal symbol----------> (=)\n",
    "Equal to operator have two equal symbols----------------> (==)\n",
    "when assigning a value to a variable we should use (=) single equal symbol eg: a=10\n",
    "when writing a condition for equal to we use double equal symbol eg:(3 == 5)"
   ]
  },
  {
   "cell_type": "raw",
   "id": "249076e4",
   "metadata": {},
   "source": [
    "7. Identify the three blocks in this code:\n",
    "spam = 0\n",
    "if spam == 10:\n",
    " (1) print('eggs')\n",
    "if spam > 5:\n",
    " (2) print('bacon')\n",
    "else:\n",
    "(3)  print('ham')\n",
    "print('spam')\n",
    "print('spam')\n"
   ]
  },
  {
   "cell_type": "raw",
   "id": "6e3379d7",
   "metadata": {},
   "source": [
    "8. Write code that prints Hello if 1 is stored in spam, prints Howdy if 2 is stored in spam, and prints Greetings! if anything else is stored in spam.\n",
    "Ans:\n",
    "if spam == 1:\n",
    "    print('Hello')\n",
    "elif spam == 2:\n",
    "    print('Howdy')\n",
    "else:\n",
    "    print('Greetings!')"
   ]
  },
  {
   "cell_type": "raw",
   "id": "3b2d3830",
   "metadata": {},
   "source": [
    "9.If your programme is stuck in an endless loop, what keys you’ll press?\n",
    "ctrl+c to stop the program"
   ]
  },
  {
   "cell_type": "raw",
   "id": "f7f44d5a",
   "metadata": {},
   "source": [
    "10. How can you tell the difference between break and continue?\n",
    "continue------> If this is found in a program and the condition given for this is satisfied,the program skip whatever is given after it the loop and goes to the previous loop and executes the next in row\n",
    "break--------->If this is found in a program and the condition given for this is satisfied,the program stops now and then the loop and whatever command is after the loop."
   ]
  },
  {
   "cell_type": "raw",
   "id": "353dcfcd",
   "metadata": {},
   "source": [
    "11. In a for loop, what is the difference between range(10), range(0, 10), and range(0, 10, 1)?\n",
    "All three range function are same but the end is given in the first one\n",
    "start and end in the second one\n",
    "start,end and jump in the third one."
   ]
  },
  {
   "cell_type": "raw",
   "id": "964720a2",
   "metadata": {},
   "source": [
    "12. Write a short program that prints the numbers 1 to 10 using a for loop. Then write an equivalent program that prints the numbers 1 to 10 using a while loop.\n",
    "FOR LOOP\n",
    "for i in range(1,11):\n",
    "      print(i)\n",
    "WHILE LOOP\n",
    "a=10\n",
    "while a<=10\n",
    "      print(a)\n",
    "      a=a+1\n",
    "      "
   ]
  },
  {
   "cell_type": "raw",
   "id": "5d0cf591",
   "metadata": {},
   "source": [
    "13. If you had a function named bacon() inside a module named spam, how would you call it after importing spam?\n",
    "We can call a function in a module using (.)dot after the module name and the function name after the dot.\n",
    "We can also access the functions in a module by using a tab key after typing dot to see what are functions available in that module. "
   ]
  }
 ],
 "metadata": {
  "kernelspec": {
   "display_name": "Python 3 (ipykernel)",
   "language": "python",
   "name": "python3"
  },
  "language_info": {
   "codemirror_mode": {
    "name": "ipython",
    "version": 3
   },
   "file_extension": ".py",
   "mimetype": "text/x-python",
   "name": "python",
   "nbconvert_exporter": "python",
   "pygments_lexer": "ipython3",
   "version": "3.9.7"
  }
 },
 "nbformat": 4,
 "nbformat_minor": 5
}
