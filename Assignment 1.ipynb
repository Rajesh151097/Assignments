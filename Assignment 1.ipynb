{
 "cells": [
  {
   "cell_type": "raw",
   "id": "980cabe1",
   "metadata": {},
   "source": [
    "1. In the below elements which of them are values or an expression? eg:- values can be integer or string and expressions will be mathematical operators.\n",
    "* \n",
    "'hello'\n",
    "-87.8\n",
    "- \n",
    "/ \n",
    "+\n",
    "6 \n",
    "Ans:  'hello',  -87.8,   6"
   ]
  },
  {
   "cell_type": "raw",
   "id": "7edce27c",
   "metadata": {},
   "source": [
    "\n",
    "2. What is the difference between string and variable?\n",
    "A string a char or a combination of characters which can be stored in some variable with the help of quotes in the beginning and in the end and can be called using that variable. eg:k=\"python code\"\n",
    "whereas variable is also may be a char or combination of characters except integers which is used to name and store some value in it and that value can be called using that variable name."
   ]
  },
  {
   "cell_type": "raw",
   "id": "8b7de78e",
   "metadata": {},
   "source": [
    "3. Describe three different data types.\n",
    "String-Any character written between quotes are considered as strings and they have the functions of a string.eg:\"Python\"\n",
    "Integer-An integer is an arithmetic number which can go through mathematical opertions with the help of operators.eg:987\n",
    "Float-Float is also an arithmetic number with fractional digits eg:56.75"
   ]
  },
  {
   "cell_type": "raw",
   "id": "3181e54a",
   "metadata": {},
   "source": [
    "4. What is an expression made up of? What do all expressions do?\n",
    "An expression is a mathematical equation which gives a value as result, Expressions are made of variables, operands and operators. Expressions can give value as result by some mathematical operation according to which the expression is made and give value as result if value for the operands are given."
   ]
  },
  {
   "cell_type": "raw",
   "id": "ce45519a",
   "metadata": {},
   "source": [
    "5. This assignment statements, like spam = 10. What is the difference between an expression and a statement?\n",
    "An expression a evaluation process whereas statement is a execution process, An expression goes through some mathematical operation to give some value as result and the statement executes something like assigning a value to some variable.\n"
   ]
  },
  {
   "cell_type": "raw",
   "id": "a7541aa4",
   "metadata": {},
   "source": [
    "6. After running the following code, what does the variable bacon contain?\n",
    "bacon = 22\n",
    "bacon + 1\n",
    "Ans: The same value 22."
   ]
  },
  {
   "cell_type": "raw",
   "id": "1693a5eb",
   "metadata": {},
   "source": [
    "7. What should the values of the following two terms be?\n",
    "'spam' + 'spamspam'\n",
    "'spam' * 3\n",
    "Ans: Both the terms gives same thing as result though their nature is different     'spamspamspam'  \n"
   ]
  },
  {
   "cell_type": "raw",
   "id": "0e4bf877",
   "metadata": {},
   "source": [
    "8. Why is eggs a valid variable name while 100 is invalid?\n",
    "Variable can only be either uppercase or lowercase alphabet and cannot anyother integer or symbol.\n"
   ]
  },
  {
   "cell_type": "raw",
   "id": "a4ff28b9",
   "metadata": {},
   "source": [
    "9. What three functions can be used to get the integer, floating-point number, or string version of a value?\n",
    "1.str()\n",
    "2.int()\n",
    "3.float()"
   ]
  },
  {
   "cell_type": "raw",
   "id": "db15574c",
   "metadata": {},
   "source": [
    "10. Why does this expression cause an error? How can you fix it?\n",
    "'I have eaten ' + 99 + ' burritos.'\n",
    "Ans:The concatenation operation can only concatenate string to string but here integer is been tried to concatenate either the integer should be changed to some string or the integer should be given quotes so that the interpreter considers it also as a string and concatenates\n",
    "\n",
    "'I have eaten' + '99' + 'buritos'   --------------->   'I have eaten 99 buritos'\n"
   ]
  }
 ],
 "metadata": {
  "kernelspec": {
   "display_name": "Python 3 (ipykernel)",
   "language": "python",
   "name": "python3"
  },
  "language_info": {
   "codemirror_mode": {
    "name": "ipython",
    "version": 3
   },
   "file_extension": ".py",
   "mimetype": "text/x-python",
   "name": "python",
   "nbconvert_exporter": "python",
   "pygments_lexer": "ipython3",
   "version": "3.9.7"
  }
 },
 "nbformat": 4,
 "nbformat_minor": 5
}
